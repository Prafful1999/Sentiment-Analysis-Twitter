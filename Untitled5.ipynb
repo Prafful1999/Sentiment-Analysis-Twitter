{
  "nbformat": 4,
  "nbformat_minor": 0,
  "metadata": {
    "colab": {
      "name": "Untitled5.ipynb",
      "provenance": [],
      "collapsed_sections": [],
      "authorship_tag": "ABX9TyPQc38mxDzCrRhIib30GHsu",
      "include_colab_link": true
    },
    "kernelspec": {
      "name": "python3",
      "display_name": "Python 3"
    }
  },
  "cells": [
    {
      "cell_type": "markdown",
      "metadata": {
        "id": "view-in-github",
        "colab_type": "text"
      },
      "source": [
        "<a href=\"https://colab.research.google.com/github/Prafful1999/Sentiment-Analysis-Twitter/blob/master/Untitled5.ipynb\" target=\"_parent\"><img src=\"https://colab.research.google.com/assets/colab-badge.svg\" alt=\"Open In Colab\"/></a>"
      ]
    },
    {
      "cell_type": "code",
      "metadata": {
        "id": "-1thkGr9utDc"
      },
      "source": [
        "import re\r\n",
        "import numpy as np\r\n",
        "import pandas as pd\r\n",
        "from sklearn.model_selection import train_test_split\r\n",
        "import matplotlib.pyplot as plt\r\n",
        "\r\n",
        "from keras.models import Sequential, load_model\r\n",
        "from keras.layers import Dense, LSTM, Embedding, Dropout\r\n",
        "from keras.preprocessing.text import Tokenizer\r\n",
        "from keras.preprocessing.sequence import pad_sequences"
      ],
      "execution_count": null,
      "outputs": []
    },
    {
      "cell_type": "code",
      "metadata": {
        "colab": {
          "base_uri": "https://localhost:8080/",
          "height": 214
        },
        "id": "dhEu0Ky0vEfs",
        "outputId": "5fd7a52f-b864-48e0-a4f1-d9f05b47cdc9"
      },
      "source": [
        "data = pd.read_csv('train.csv')\r\n",
        "data = data.sample(frac=1).reset_index(drop=True)\r\n",
        "print(data.shape)\r\n",
        "data.head()"
      ],
      "execution_count": null,
      "outputs": [
        {
          "output_type": "stream",
          "text": [
            "(1800, 2)\n"
          ],
          "name": "stdout"
        },
        {
          "output_type": "execute_result",
          "data": {
            "text/html": [
              "<div>\n",
              "<style scoped>\n",
              "    .dataframe tbody tr th:only-of-type {\n",
              "        vertical-align: middle;\n",
              "    }\n",
              "\n",
              "    .dataframe tbody tr th {\n",
              "        vertical-align: top;\n",
              "    }\n",
              "\n",
              "    .dataframe thead th {\n",
              "        text-align: right;\n",
              "    }\n",
              "</style>\n",
              "<table border=\"1\" class=\"dataframe\">\n",
              "  <thead>\n",
              "    <tr style=\"text-align: right;\">\n",
              "      <th></th>\n",
              "      <th>Content</th>\n",
              "      <th>Label</th>\n",
              "    </tr>\n",
              "  </thead>\n",
              "  <tbody>\n",
              "    <tr>\n",
              "      <th>0</th>\n",
              "      <td>with many big-budget science fiction films , g...</td>\n",
              "      <td>pos</td>\n",
              "    </tr>\n",
              "    <tr>\n",
              "      <th>1</th>\n",
              "      <td>there should be a requirement that a potential...</td>\n",
              "      <td>neg</td>\n",
              "    </tr>\n",
              "    <tr>\n",
              "      <th>2</th>\n",
              "      <td>a welcome cinematic trend over the past couple...</td>\n",
              "      <td>pos</td>\n",
              "    </tr>\n",
              "    <tr>\n",
              "      <th>3</th>\n",
              "      <td>adam sandler turns up the charm in his latest ...</td>\n",
              "      <td>neg</td>\n",
              "    </tr>\n",
              "    <tr>\n",
              "      <th>4</th>\n",
              "      <td>veteran actor clint eastwood has never looked ...</td>\n",
              "      <td>pos</td>\n",
              "    </tr>\n",
              "  </tbody>\n",
              "</table>\n",
              "</div>"
            ],
            "text/plain": [
              "                                             Content Label\n",
              "0  with many big-budget science fiction films , g...   pos\n",
              "1  there should be a requirement that a potential...   neg\n",
              "2  a welcome cinematic trend over the past couple...   pos\n",
              "3  adam sandler turns up the charm in his latest ...   neg\n",
              "4  veteran actor clint eastwood has never looked ...   pos"
            ]
          },
          "metadata": {
            "tags": []
          },
          "execution_count": 2
        }
      ]
    },
    {
      "cell_type": "code",
      "metadata": {
        "colab": {
          "base_uri": "https://localhost:8080/",
          "height": 197
        },
        "id": "YZpaMzByvhgg",
        "outputId": "c9cc1143-7453-48f5-bc6c-21da14cfc03f"
      },
      "source": [
        "data = data[['Label', 'Content']]\r\n",
        "data.head()"
      ],
      "execution_count": null,
      "outputs": [
        {
          "output_type": "execute_result",
          "data": {
            "text/html": [
              "<div>\n",
              "<style scoped>\n",
              "    .dataframe tbody tr th:only-of-type {\n",
              "        vertical-align: middle;\n",
              "    }\n",
              "\n",
              "    .dataframe tbody tr th {\n",
              "        vertical-align: top;\n",
              "    }\n",
              "\n",
              "    .dataframe thead th {\n",
              "        text-align: right;\n",
              "    }\n",
              "</style>\n",
              "<table border=\"1\" class=\"dataframe\">\n",
              "  <thead>\n",
              "    <tr style=\"text-align: right;\">\n",
              "      <th></th>\n",
              "      <th>Label</th>\n",
              "      <th>Content</th>\n",
              "    </tr>\n",
              "  </thead>\n",
              "  <tbody>\n",
              "    <tr>\n",
              "      <th>0</th>\n",
              "      <td>pos</td>\n",
              "      <td>with many big-budget science fiction films , g...</td>\n",
              "    </tr>\n",
              "    <tr>\n",
              "      <th>1</th>\n",
              "      <td>neg</td>\n",
              "      <td>there should be a requirement that a potential...</td>\n",
              "    </tr>\n",
              "    <tr>\n",
              "      <th>2</th>\n",
              "      <td>pos</td>\n",
              "      <td>a welcome cinematic trend over the past couple...</td>\n",
              "    </tr>\n",
              "    <tr>\n",
              "      <th>3</th>\n",
              "      <td>neg</td>\n",
              "      <td>adam sandler turns up the charm in his latest ...</td>\n",
              "    </tr>\n",
              "    <tr>\n",
              "      <th>4</th>\n",
              "      <td>pos</td>\n",
              "      <td>veteran actor clint eastwood has never looked ...</td>\n",
              "    </tr>\n",
              "  </tbody>\n",
              "</table>\n",
              "</div>"
            ],
            "text/plain": [
              "  Label                                            Content\n",
              "0   pos  with many big-budget science fiction films , g...\n",
              "1   neg  there should be a requirement that a potential...\n",
              "2   pos  a welcome cinematic trend over the past couple...\n",
              "3   neg  adam sandler turns up the charm in his latest ...\n",
              "4   pos  veteran actor clint eastwood has never looked ..."
            ]
          },
          "metadata": {
            "tags": []
          },
          "execution_count": 6
        }
      ]
    },
    {
      "cell_type": "code",
      "metadata": {
        "colab": {
          "base_uri": "https://localhost:8080/",
          "height": 291
        },
        "id": "KX3jX7orwNN2",
        "outputId": "84797a16-0bdc-4db3-e594-add1ce046b20"
      },
      "source": [
        "data['Label'].value_counts().sort_index().plot.bar()"
      ],
      "execution_count": null,
      "outputs": [
        {
          "output_type": "execute_result",
          "data": {
            "text/plain": [
              "<matplotlib.axes._subplots.AxesSubplot at 0x7f33a9c38b90>"
            ]
          },
          "metadata": {
            "tags": []
          },
          "execution_count": 7
        },
        {
          "output_type": "display_data",
          "data": {
            "image/png": "[encoded data removed]",
            "text/plain": [
              "<Figure size 432x288 with 1 Axes>"
            ]
          },
          "metadata": {
            "tags": [],
            "needs_background": "light"
          }
        }
      ]
    },
    {
      "cell_type": "code",
      "metadata": {
        "colab": {
          "base_uri": "https://localhost:8080/",
          "height": 282
        },
        "id": "1QX-oBptwZzC",
        "outputId": "ec31f32c-2aaf-4d40-a588-c1ebe6a6c3b5"
      },
      "source": [
        "data['Content'].str.len().plot.hist()"
      ],
      "execution_count": null,
      "outputs": [
        {
          "output_type": "execute_result",
          "data": {
            "text/plain": [
              "<matplotlib.axes._subplots.AxesSubplot at 0x7f33a9b94510>"
            ]
          },
          "metadata": {
            "tags": []
          },
          "execution_count": 8
        },
        {
          "output_type": "display_data",
          "data": {
            "image/png": "[encoded data removed]",
            "text/plain": [
              "<Figure size 432x288 with 1 Axes>"
            ]
          },
          "metadata": {
            "tags": [],
            "needs_background": "light"
          }
        }
      ]
    },
    {
      "cell_type": "code",
      "metadata": {
        "colab": {
          "base_uri": "https://localhost:8080/",
          "height": 197
        },
        "id": "Tcjh4ySuwmGZ",
        "outputId": "eb06a977-ce4f-4558-cea2-8c0898e4bad4"
      },
      "source": [
        "data['Label'] = data['Label'].str.replace('@VirginAmerica', '')\r\n",
        "data.head()"
      ],
      "execution_count": null,
      "outputs": [
        {
          "output_type": "execute_result",
          "data": {
            "text/html": [
              "<div>\n",
              "<style scoped>\n",
              "    .dataframe tbody tr th:only-of-type {\n",
              "        vertical-align: middle;\n",
              "    }\n",
              "\n",
              "    .dataframe tbody tr th {\n",
              "        vertical-align: top;\n",
              "    }\n",
              "\n",
              "    .dataframe thead th {\n",
              "        text-align: right;\n",
              "    }\n",
              "</style>\n",
              "<table border=\"1\" class=\"dataframe\">\n",
              "  <thead>\n",
              "    <tr style=\"text-align: right;\">\n",
              "      <th></th>\n",
              "      <th>Label</th>\n",
              "      <th>Content</th>\n",
              "    </tr>\n",
              "  </thead>\n",
              "  <tbody>\n",
              "    <tr>\n",
              "      <th>0</th>\n",
              "      <td>pos</td>\n",
              "      <td>with many big-budget science fiction films , g...</td>\n",
              "    </tr>\n",
              "    <tr>\n",
              "      <th>1</th>\n",
              "      <td>neg</td>\n",
              "      <td>there should be a requirement that a potential...</td>\n",
              "    </tr>\n",
              "    <tr>\n",
              "      <th>2</th>\n",
              "      <td>pos</td>\n",
              "      <td>a welcome cinematic trend over the past couple...</td>\n",
              "    </tr>\n",
              "    <tr>\n",
              "      <th>3</th>\n",
              "      <td>neg</td>\n",
              "      <td>adam sandler turns up the charm in his latest ...</td>\n",
              "    </tr>\n",
              "    <tr>\n",
              "      <th>4</th>\n",
              "      <td>pos</td>\n",
              "      <td>veteran actor clint eastwood has never looked ...</td>\n",
              "    </tr>\n",
              "  </tbody>\n",
              "</table>\n",
              "</div>"
            ],
            "text/plain": [
              "  Label                                            Content\n",
              "0   pos  with many big-budget science fiction films , g...\n",
              "1   neg  there should be a requirement that a potential...\n",
              "2   pos  a welcome cinematic trend over the past couple...\n",
              "3   neg  adam sandler turns up the charm in his latest ...\n",
              "4   pos  veteran actor clint eastwood has never looked ..."
            ]
          },
          "metadata": {
            "tags": []
          },
          "execution_count": 10
        }
      ]
    },
    {
      "cell_type": "code",
      "metadata": {
        "colab": {
          "base_uri": "https://localhost:8080/"
        },
        "id": "B6NXh97kxMMs",
        "outputId": "7f78add1-a01f-4721-c23d-dbb9b4d25a82"
      },
      "source": [
        "data['Label'].apply(lambda x: x.lower()) #transform text to lowercase\r\n",
        "data['Label'] = data['Label'].apply(lambda x: re.sub('[^a-zA-z0-9\\s]', '', x))\r\n",
        "data['Label'].head()"
      ],
      "execution_count": null,
      "outputs": [
        {
          "output_type": "execute_result",
          "data": {
            "text/plain": [
              "0    pos\n",
              "1    neg\n",
              "2    pos\n",
              "3    neg\n",
              "4    pos\n",
              "Name: Label, dtype: object"
            ]
          },
          "metadata": {
            "tags": []
          },
          "execution_count": 11
        }
      ]
    },
    {
      "cell_type": "code",
      "metadata": {
        "colab": {
          "base_uri": "https://localhost:8080/"
        },
        "id": "yf-ZXF8gxfEI",
        "outputId": "163648c1-5d5a-4ca6-e824-52e1e5325cbb"
      },
      "source": [
        "tokenizer = Tokenizer(num_words=5000, split=\" \")\r\n",
        "tokenizer.fit_on_texts(data['Label'].values)\r\n",
        "\r\n",
        "X = tokenizer.texts_to_sequences(data['Label'].values)\r\n",
        "X = pad_sequences(X) # padding our text vector so they all have the same length\r\n",
        "X[:5]"
      ],
      "execution_count": null,
      "outputs": [
        {
          "output_type": "execute_result",
          "data": {
            "text/plain": [
              "array([[1],\n",
              "       [2],\n",
              "       [1],\n",
              "       [2],\n",
              "       [1]], dtype=int32)"
            ]
          },
          "metadata": {
            "tags": []
          },
          "execution_count": 12
        }
      ]
    },
    {
      "cell_type": "code",
      "metadata": {
        "id": "cJ9agykLx0Qx"
      },
      "source": [
        "model = Sequential()\r\n",
        "model.add(Embedding(5000, 256, input_length=X.shape[1]))\r\n",
        "model.add(Dropout(0.3))\r\n",
        "model.add(LSTM(256, return_sequences=True, dropout=0.3, recurrent_dropout=0.2))\r\n",
        "model.add(LSTM(256, dropout=0.3, recurrent_dropout=0.2))\r\n",
        "model.add(Dense(3, activation='softmax'))"
      ],
      "execution_count": null,
      "outputs": []
    },
    {
      "cell_type": "code",
      "metadata": {
        "colab": {
          "base_uri": "https://localhost:8080/"
        },
        "id": "2TL-Uc2cx75o",
        "outputId": "c4de2dac-98df-4ad6-bdd6-8569da77e553"
      },
      "source": [
        "model.compile(loss='categorical_crossentropy', optimizer='adam', metrics=['accuracy'])\r\n",
        "model.summary()"
      ],
      "execution_count": null,
      "outputs": [
        {
          "output_type": "stream",
          "text": [
            "Model: \"sequential_1\"\n",
            "_________________________________________________________________\n",
            "Layer (type)                 Output Shape              Param #   \n",
            "=================================================================\n",
            "embedding_1 (Embedding)      (None, 1, 256)            1280000   \n",
            "_________________________________________________________________\n",
            "dropout_1 (Dropout)          (None, 1, 256)            0         \n",
            "_________________________________________________________________\n",
            "lstm_2 (LSTM)                (None, 1, 256)            525312    \n",
            "_________________________________________________________________\n",
            "lstm_3 (LSTM)                (None, 256)               525312    \n",
            "_________________________________________________________________\n",
            "dense_1 (Dense)              (None, 3)                 771       \n",
            "=================================================================\n",
            "Total params: 2,331,395\n",
            "Trainable params: 2,331,395\n",
            "Non-trainable params: 0\n",
            "_________________________________________________________________\n"
          ],
          "name": "stdout"
        }
      ]
    },
    {
      "cell_type": "code",
      "metadata": {
        "colab": {
          "base_uri": "https://localhost:8080/"
        },
        "id": "ZbGIKtHTyKWp",
        "outputId": "b4c03e40-3a9c-43a9-c9ee-ae543d33c938"
      },
      "source": [
        "y = pd.get_dummies(data['Content']).values\r\n",
        "[print(data['Content'][i], y[i]) for i in range(0,5)]"
      ],
      "execution_count": null,
      "outputs": [
        {
          "output_type": "stream",
          "text": [
            "with many big-budget science fiction films , great ideas are often wasted by bad scripts , cheesy plot twists , and , terrible acting . \r\n",
            "the fifth element , the abyss , and godzilla had great concepts squandered by bad acting , writing , or both . \r\n",
            "at first glance , the matrix , larry & andy wachowski's sci-fi/kung-fu/shoot-em-up spectacular , looks like a prime candidate to join the list of high-concept bad movies , especially with dopey keanu reeves in the leading role . \r\n",
            "but despite high levels of cheese and gaudy dialogue , the matrix works . \r\n",
            "it's an uncanny blend of action and surreal fantasy that borrows from dozens of other films ( most obviously the terminator films , star wars , and total recall ) , but remains refreshingly original and interesting throughout . \r\n",
            "reeves plays neo , a computer hacker who stumbles into an initially bewildering set of encounters with \" trinity \" ( carrie-anne moss ) , a rival hacker who has supernatural powers and stunning good looks , a unseen , omniscient cult figure known as \" morpheus \" ( lawrence fishburne ) , and a trio of creepy men in dark suits who act like irs agents from hell . \r\n",
            "neo quickly learns that the world he has known all his life is not what it seems . \r\n",
            "moreover , he discovers that the grim , bleak world he is introduced to has been waiting for him to save it . \r\n",
            "neo is reluctant to assume the role of messiah , with grave doubts that he is actually \" the one \" prophesized to come and save the world . \r\n",
            "reluctant or not , what follows is a mix of hong kong-style slow-motion shootouts , surreal dream sequences , high speed chases , and comic book kung-fu fights . \r\n",
            "the film also raises interesting philosophical questions about reality . \r\n",
            "how exactly do you know what is real and what is in your mind ? \r\n",
            "and if the real world were much harsher and grim than a fantasy one you were living in , would you want to face the true world or continue to live in a more comfortable illusion ? \r\n",
            "unfortunately , the matrix doesn't provide many answers to the questions it raises , but at least it puts some ideas behind all the explosions , shoot-outs , and flying roundhouse kicks . \r\n",
            "perhaps stealing the entire show in the matrix is australian actor hugo weaving , who plays agent smith , the leader of the creepy agents in sunglasses and suits who seem capable of being anywhere and doing anything to stop neo and friends from destabilizing the matrix . \r\n",
            "weaving's stony appearance , deadpan voice , and chilling comments put a grim human face on the haunting , evil technological force that controls the matrix . \r\n",
            "like robert patrick as the shapeshifting t-1000 terminator in terminator 2 : judgement day , weaving is more frightening than any monstrous alien or homicidal robot because , despite his power and seeming invincibility , he looks ordinary , even scrawny . \r\n",
            "weaving embodies his role with a memorably chilling presence . \r\n",
            "the film features some truly breathtaking special effects and stylish cinematography . \r\n",
            "it seems to be deliberately kitchy , with stylized fight sequences directed by hong kong stunt specialist wo ping that reportedly required months of martial arts training by the actors . \r\n",
            "in a few scenes , the posing and posturing is unintentionally funny . \r\n",
            "just seeing keanu reeves engaging in serious kung fu is a bit jarring . \r\n",
            "however , with the comic-book style and tone of the film , you can sustain willing disbelief long enough to enjoy the ride without losing patience . \r\n",
            "the matrix isn't a classic . \r\n",
            "its open-ended and confusing conclusion raises more questions than it answers . \r\n",
            "it fails to resolve many of its own plot twists and philosophical questions . \r\n",
            "it also relies on some conventional sentimentality to save the hero - the kind of shmaltzy feel-good goo that most of the film avoids . \r\n",
            "reportedly , the producers have high hopes for the film being the first in a trilogy and have already begun work on the story for the sequel . \r\n",
            "unfortunately , audiences deserve a little more than a vague sense that the story will continue in the future . \r\n",
            "the matrix is an fun , enjoyable diversion , like a big puff of cotton candy at a carnival . \r\n",
            "just don't be surprised half an hour later when you still feel a little hungry . \r\n",
            " [0 0 0 ... 0 0 0]\n",
            "there should be a requirement that a potential viewer be under a certain film iq in order to see \" mission to mars . \" \r\n",
            "there are probably quite a few people who are going to enjoy it , and most of them will probably be those who have seen very few films of its kind . \r\n",
            "but there are those who will not , and those will most likely be people who have already seen one or more of the following movies : \" 2001 : a space odyssey , \" \" armageddon , \" \" apollo 13 , \" \" the abyss , \" \" close encounters of the third kind , \" \" e . t . \r\n",
            "the extra-terrestrial , \" \" alien , \" and \" aliens . \" \r\n",
            "why ? \r\n",
            "because there is not one original idea in \" mission to mars . \" \r\n",
            "all of it is cribbed from other films ( and in most cases , better films ) . \r\n",
            "if this is the sort of thing you don't mind , you might like the film . \r\n",
            "of course , there are other reasons not to like \" mission to mars , \" the main one being a script written by people who seem to assume their audience is filled with people who haven't used their brains in some time , and who don't intend to start during the film's running time . \r\n",
            " \" mission to mars \" manages to be both stupid and boring at the same time . \r\n",
            "the plot , cribbed greatly from \" 2001 , \" concerns a team sent to mars , the first manned trip ever made to the red planet . \r\n",
            "luke graham ( don cheadle ) leads the team , jointly formed of americans and russians . \r\n",
            "the team encounters a mysterious monolith that emits a strange pulse ( this being nothing like the pulse-emitting monolith in \" 2001 \" -- that one was on the * moon * ) , but when they try to study it , a giant sand tornado comes out of the top and swallows them ( all except luke , who survives long enough to send a garbled message back to the rotating space station , which looks strangely like the rotating space station in \" 2001 \" ) . \r\n",
            "a rescue mission is planned with husband & wife team woody blake ( tim robbins ) and terri fisher ( connie nielsen ) , obligatory pilot with a troubled past jim mcconnell ( gary sinise ) , and extra crew member phil ohlmyer ( jerry o'connell ) along for the ride . \r\n",
            "after some zero-gravity dancing , they run into problems when one of their engines is blown , forcing them to attempt a desperate landing aboard a supply vessel . \r\n",
            "now stranded on mars with minimal supplies , the team must decide whether or not it can risk entering the monolith or if they should return home . \r\n",
            "after all , that monolith just might contain information about how life originated on earth . \r\n",
            " \" mission to mars \" is one of those films that makes a critic wonder where to start when talking about all the things that are wrong with it , so let's start with one of the things that does work : director brian de palma manages to create some eerie tension in a few scenes during the middle of the film . \r\n",
            "that's it . \r\n",
            "everything else fails . \r\n",
            "the failure isn't de palma's fault ; he's working from an atrocious script . \r\n",
            "only during the sequence aboard the ship ( looking an awful lot like the jupiter vessel in \" 2001 \" ) where the rescue team's air begins running out and they must frantically search for the hole and patch it up does \" mission to mars \" come to life . \r\n",
            "a scene where they attempt to save a comrade floating away into space also provides some tension , until you realize that the entire danger/more danger/attempted rescue sequence has absolutely nothing to do with the rest of the film ; it's just a contrived way to generate thrilling scenes . \r\n",
            "take it out , and the plot isn't affected in any way . \r\n",
            "the sequence also suffers from a few plot holes ( as does the rest of the film ) : why is the ship's computer ( which sounds strangely like hal from , uh , \" 2001 \" ) able to detect a hole in the main chamber but not one in the engine ? \r\n",
            "why did tim robbins' character have to go outside the ship when the solution easily presented itself from inside ? \r\n",
            "shouldn't the astronauts be better trained to deal with a hull breach ? \r\n",
            "why are the characters such idiots ? \r\n",
            "because the script makes little attempt to properly develop them . \r\n",
            "all the \" conflict \" is clumsily delivered in excruciatingly obvious exposition in the opening scene ( which rips off orson welles and robert altman by utilizing a long opening tracking shot ) during which the characters repeatedly tell each other about things all of them should already know : \" jim , it's too bad you can't go on this mission because you were determined 'psychologically inadequate' because your wife died right before you were to go on the mission together \" -- does anyone really talk like this ? \r\n",
            "can't we find out these things in a less grating matter , like maybe in a flashback ? \r\n",
            "the whole film is like that . \r\n",
            "the filmmakers are not content to merely show us something and assume we know what's going on ; they must * tell * us exactly what we're looking at * every * time . \r\n",
            "sample dialogue from the film : ( shot of mars ) astronaut a : \" look , there's mars \" astronaut b : \" you sure that's mars ? \" \r\n",
            "astronaut a : \" yeah , that's mars all right . \" \r\n",
            "astronaut c : \" hey , are you guys looking at mars ? \" \r\n",
            "that exchange isn't actually in \" mission to mars , \" but i wouldn't be surprised if it were . \r\n",
            "for all their cribbing from kubrick , spielberg , james cameron , and even ron howard , the makers of this film haven't learned to do something all those directors did very well : show and don't tell . \r\n",
            "de palma used to know how , but seems to have forgotten . \r\n",
            "this is mentally-challenged filmmaking ; they assume the audience won't get what's going on , so they explain everything five times over . \r\n",
            "fourth-graders may appreciate this , but more learned viewers will have their intelligence insulted . \r\n",
            "the principal actors sleepwalk their way through \" mission to mars , \" never managing to do away with an apparent \" i'm just here to get a paycheck \" attitude . \r\n",
            "cheadle stumbles over his awkward lines . \r\n",
            "armin mueller-stahl manages to thoroughly embarrass himself in an unbilled cameo . \r\n",
            "robbins puts his game face on and phones in his standard \" decent guy \" performance . \r\n",
            "and sinise hams it up with \" wistful \" facial expressions while watching tapes of his dead wife ( played by kim delaney , who only has one scene during which she still manages to deliver some ridiculous dialogue in a heavy-handed monologue about the meaning of life ) , and especially during the stolen-from-no-less-than-three-movies ( a lollipop to whoever names them ) conclusion , which combines endless , obvious explanation and sub-par cgi effects with gagging sentimentality and is sure to alienate any viewers who had been enjoying the show up until then . \r\n",
            "and of course , these aliens from mars who facilitated the evolution of life on earth are entirely different from the aliens in \" 2001 \" who facilitated the evolution of life on earth ; those aliens were from an * unknown * world . \r\n",
            "it could be said that fans of brainless action films might enjoy \" mission to mars , \" but such a comment ignores the fact that the film is also incredibly slow-going . \r\n",
            "leisurely pacing might have helped a film with a little more substance to it , but all of the substance of \" mission to mars \" has been stolen from other films , and those other films dealt with their ideas in a much more thoughtful fashion and generally contained more engaging characters . \r\n",
            "supposedly we're intended to choke up when one character decides not to return home at the end of this one ( totally different from the one-character-decides-not-to-return ending of \" armageddon \" ) , but i suspect most people will either be laughing or groaning . \r\n",
            "me , i alternated between the two . \r\n",
            "there is only one good thing about the way \" mission to mars \" finally ends : the fact that the movie is over . \r\n",
            " [0 0 0 ... 0 0 0]\n",
            "a welcome cinematic trend over the past couple of years has been to make the works of shakespeare more accessible to the younger audiences who are the vast majority of moviegoers by contemporizing the bard and altering the settings to familiar surroundings . \r\n",
            "a prime example of this is 1999's 10 things i hate about you , which was basically the taming of the shrew in a high school . \r\n",
            "less successful was last year's adaptation of hamlet with ethan hawke as the heir apparent of the denmark corp . here the setting was the corporate world of new york . \r\n",
            "now comes o , a faithful retelling of one of the most tragic of shakespeare's tragedies . \r\n",
            "like 10 things i hate about you , the stage is a high school - a private prep school where odin james ( mekhi phifer ) is the on-court general , the basketball team's standout player . \r\n",
            "julia stiles , featured in 10 things i hate about you as well as performing ophelia in hawke's hamlet , plays desi brable , odin's girlfriend , whose father also happens to be dean of the institution . \r\n",
            "josh hartnett ( pearl harbor ) is on hand for the villainy , playing the scheming hugo , who sets the tragic wheels in motion . \r\n",
            "o was actually filmed a couple of years ago , but was shelved because of the columbine high school tragedy . \r\n",
            "the movie , directed by tim blake nelson - best known for his co-starring role in o brother , where art thou ? \r\n",
            "- and written by brad kaaya , is very grim . \r\n",
            "an air of tragedy weighs it down from the opening scene to the closing credits . \r\n",
            "and that is how it should be . \r\n",
            "of all of shakespeare's tragedies , othello is the most harrowing , not because of any body count , but because of the psychological havoc wreaked by iago , whose motivation in the sheer pleasure of his treachery . \r\n",
            "kaaya's profane-filled script - after all , these are high school kids - does offer hugo a subtle motive of sorts . \r\n",
            "the young man considers himself the basketball team's prime utility man who does a little bit of everything - pass , shoot , rebound - but is constantly in the shadow of odin . \r\n",
            "plus his father , the team's coach - played with a ferocious intensity by martin sheen - showers more love and concern on his star player than on his own flesh and blood . \r\n",
            "the script follows the familiar lines of the classic . \r\n",
            "hugo begins dropping hints to odin concerning desi's fidelity , eroding the star's confidence in those he considers closest to him , affecting both his relationships and his game . \r\n",
            "it all ends in blood , of course , which is why the movie was originally shelved . \r\n",
            "the performances in o vary . \r\n",
            "phifer is at first cocky and self-assured , emotions he handles with ease . \r\n",
            "he also does quite well displaying odin's darker side ; his defensive sensitivity about being the only black at the institution , his growing distrust of those he loved , his rage and the erosion of his belief system . \r\n",
            "hartnett is appropriately cool and machiavellian as he weaves his deadly web of lies and deceit , turning friend against friend , and lover against lover . \r\n",
            "stiles seems a bit stilted , but occasionally also rises to the occasion , moving from adoration to confusion to fear of her young knight . \r\n",
            "the film does contain a few missteps : a subplot involving hugo's theft of the school mascot is left hanging . \r\n",
            "also desi's actions concerning michael ( andrew keegan ) , odin's former teammate and best friend who was kicked off the team because of one of hugo's machinations , is puzzling . \r\n",
            "why she would continually be seen with michael - however innocent the circumstances - when she knows her man suspects the two of cheating behind his back . \r\n",
            "it is irrational . \r\n",
            "but these are minor carpings . \r\n",
            "overall , o is a stylish and faithful adaptation . \r\n",
            "if nothing else , it may encourage some people to read the original text , and that will counterbalance the severity of this feature . \r\n",
            " [0 0 0 ... 0 0 0]\n",
            "adam sandler turns up the charm in his latest romantic comedy , the wedding singer . \r\n",
            "unfortunately , that also has the effect of softening his edge . \r\n",
            "he's nowhere near his peak of happy gilmore , not that it was much of one . \r\n",
            "he's certainly not helped here by a rather frail plot . \r\n",
            "the year is 1985 , letting the whole film obsess with 80s nostalgia . \r\n",
            "adam sandler is nice guy robbie , the titular wedding singer , who entertains at the local reception hall by belting out his interpretations of classic 80s hits . \r\n",
            "robbie's life is thrown into turmoil when his fiancee , linda ( angela featherstone ) , leaves him at the altar . \r\n",
            "however , things are looking up when he meets julia ( drew barrymore ) , a waitress at the hall . \r\n",
            "she's the perfect woman , but for one small flaw : she's engaged to be married to a slick junk bond king , glenn ( matthew glave ) . \r\n",
            "so , most of the film deals with the slow realization by robbie that he and julia are in love , and his attempts to stop the wedding . \r\n",
            "as far as plots go , it's a pretty thin and tired one . \r\n",
            "to fill the gaps , the wedding singer delivers heaping spoonfuls of 1980s nostalgia . \r\n",
            "from boy george to michael jackson , from miami vice to dallas , from the first cds to the last rubik's cubes , this film revels in all the minutiae . \r\n",
            "and then there's the music . . . \r\n",
            "learning a lesson from the successful soundtracks to grosse pointe blank , and romy and michele's high school reunion , this film packs more 80s songs in the film than the running time will allow . \r\n",
            "as a result , most songs get maybe a lyric or a half , but you can almost see the bright gleam in the record executives' eyes : the wedding singer vols . \r\n",
            "2 , 3 , and 4 ! \r\n",
            "while the nonstop 80s riffs get incredibly tiring , at least they distract you from the plot . \r\n",
            "at least last year's my best friend's wedding stirred up the standard \" keep your true love from marrying someone else \" plot by making the rival a nice person . \r\n",
            "here , glenn is such a lowly rat of a man that you never see what julia saw in him . \r\n",
            "barrymore , on the other hand , is simply charming as julia . \r\n",
            "which leaves us with adam sandler . \r\n",
            "he's at his best in the film when his nice guy persona fades a little ( such as when he has a breakdown on stage during a wedding reception ) . \r\n",
            "when he's in full nice-guy mode , he's more pathetic than endearing . \r\n",
            "the film boasts several cameos ( most notably by steve buscemi and jon lovitz ) . \r\n",
            "but none of them work well at all . \r\n",
            "buscemi's role as a drunken best man simply fails to be humorous . \r\n",
            "lovitz , on the other hand , as a rival wedding singer , makes you long for his good old days on saturday night live , where he was actually funny . \r\n",
            "the only cameo which has some appeal is a guest appearance by a classic 80s rocker during the film's finale ( surprisingly , one of the only plot-related scenes which actually works . ) \r\n",
            "adam sandler still has some work to do before he can become a dependable leading man . \r\n",
            "while he attempts to change his image in the wedding singer , the end result is no net gain . \r\n",
            " [0 0 0 ... 0 0 0]\n",
            "veteran actor clint eastwood has never looked as grizzled as he does in true crime , his latest directorial effort . \r\n",
            "when steve everett ( his newest character ) gets angry at someone , he glares them down with those famous dirty harry eyes , furrows his brow and frowns like a grizzly bear who's just lost his cubs . \r\n",
            "eastwood has played some particularly despicable characters in his time , but everett could just take the cake . \r\n",
            "he gets my vote , at least , partly because `ev' is a drunken affair-a-week womanizer who has many relationship problems , very few of which are with his wife ( diane venora ) . \r\n",
            "when his colleague at the oakland tribune is in an ugly car wreck and dies , everett must take over for her at a vital interview session . \r\n",
            "the interview is with frank beacham ( isaiah washington ) , a death-row inmate set to die at midnight for the murder of a pregnant convenience store clerk . \r\n",
            "eastwood furrows his brow . \r\n",
            "as everett gradually finds information , he realizes that beacham could very well be innocent . \r\n",
            "he interviews a key witness ( michael jeter ) , who claims that he burst in the door at pocum's foods because his car had overheated , only to see beacham standing over the dead woman's body , blood on his suspenders , gun in hand . \r\n",
            "but everett protests : how could he have seen the gun , which was lowered by his side , with the potato chip rack in front of him ? \r\n",
            "jeter doesn't know what he's talking about . \r\n",
            "eastwood furrows his brow . \r\n",
            "crinkled expressions and all , clint is the centre of energy of true crime . \r\n",
            "the film is by no means a standard action/suspense yarn , but a thoughtful human story in which the characters come before the shoot-outs . \r\n",
            "isaiah washington has a break-out performance as frank beacham , and scenes with him and his weary wife ( lisa gay hamilton ) are truly heartfelt moments . \r\n",
            "but the best scenes are ones that feature eastwood duking it out with those in authority over him . \r\n",
            "denis leary , as everett's editor and boss , has more than a few memorable moments of restrained anger ( you see , ev is sleeping with his wife ) . \r\n",
            "but hands down , the most enjoyable segments of the film are when james woods is on camera . \r\n",
            "playing the big boss alan mann , woods and eastwood create amusing chemistry and laugh-out-loud punchlines . \r\n",
            "when true crime opts for a high-speed chase to the governer's house at the finale , the quality of film-making takes an abrupt nosedive . \r\n",
            "eastwood was so successful with colorful character portraits that he didn't need to switch lanes . \r\n",
            "true crime is a tension-building , intriguing drama showcase for the talented director and star . \r\n",
            "this is a road block he could have easily dismissed ( i furrow my brow ) . \r\n",
            " . . . . . . . . . . . . . . . . . . . . . . . . . . . \r\n",
            " [0 0 0 ... 0 0 0]\n"
          ],
          "name": "stdout"
        },
        {
          "output_type": "execute_result",
          "data": {
            "text/plain": [
              "[None, None, None, None, None]"
            ]
          },
          "metadata": {
            "tags": []
          },
          "execution_count": 16
        }
      ]
    },
    {
      "cell_type": "code",
      "metadata": {
        "id": "aM9sMOBEybfq"
      },
      "source": [
        "X_train, X_test, y_train, y_test = train_test_split(X, y, test_size=0.2, random_state=0)"
      ],
      "execution_count": null,
      "outputs": []
    },
    {
      "cell_type": "code",
      "metadata": {
        "colab": {
          "base_uri": "https://localhost:8080/"
        },
        "id": "xfRW8NwQyl0r",
        "outputId": "284e544f-4dae-4894-d447-4a4bc1c126db"
      },
      "source": [
        "\r\n",
        "predictions = model.predict(X_test)\r\n",
        "\r\n",
        "[print(data['Label'][i], predictions[i], y_test[i]) for i in range(0, 5)]"
      ],
      "execution_count": null,
      "outputs": [
        {
          "output_type": "stream",
          "text": [
            "pos [0.333427   0.3331519  0.33342108] [0 0 0 ... 0 0 0]\n",
            "neg [0.333427   0.3331519  0.33342108] [0 0 0 ... 0 0 0]\n",
            "pos [0.333427   0.3331519  0.33342108] [0 0 0 ... 0 0 0]\n",
            "neg [0.333427   0.3331519  0.33342108] [0 0 0 ... 0 0 0]\n",
            "pos [0.333427   0.3331519  0.33342108] [0 0 0 ... 0 0 0]\n"
          ],
          "name": "stdout"
        },
        {
          "output_type": "execute_result",
          "data": {
            "text/plain": [
              "[None, None, None, None, None]"
            ]
          },
          "metadata": {
            "tags": []
          },
          "execution_count": 24
        }
      ]
    },
    {
      "cell_type": "code",
      "metadata": {
        "colab": {
          "base_uri": "https://localhost:8080/"
        },
        "id": "k9sfoE4tz1gI",
        "outputId": "641e85f0-a00c-4c8b-f75e-2d4130919919"
      },
      "source": [
        "pos_count, neu_count, neg_count = 0, 0, 0\r\n",
        "real_pos, real_neu, real_neg = 0, 0, 0\r\n",
        "for i, prediction in enumerate(predictions):\r\n",
        "    if np.argmax(prediction)==2:\r\n",
        "        pos_count += 1\r\n",
        "    elif np.argmax(prediction)==1:\r\n",
        "        neu_count += 1\r\n",
        "    else:\r\n",
        "        neg_count += 1\r\n",
        "    \r\n",
        "    if np.argmax(y_test[i])==2:\r\n",
        "        real_pos += 1\r\n",
        "    elif np.argmax(y_test[i])==1:    \r\n",
        "        real_neu += 1\r\n",
        "    else:\r\n",
        "        real_neg +=1\r\n",
        "\r\n",
        "print('Positive predictions:', pos_count)\r\n",
        "\r\n",
        "print('Negative predictions:', neg_count)\r\n",
        "\r\n"
      ],
      "execution_count": null,
      "outputs": [
        {
          "output_type": "stream",
          "text": [
            "Positive predictions: 190\n",
            "Negative predictions: 170\n"
          ],
          "name": "stdout"
        }
      ]
    }
  ]
}